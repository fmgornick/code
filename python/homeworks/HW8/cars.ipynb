{
 "cells": [
  {
   "cell_type": "code",
   "execution_count": 1,
   "metadata": {},
   "outputs": [],
   "source": [
    "# CSCI 1133, Fletcher Gornick, gorni025\n",
    "# lab Section 002, HW 8"
   ]
  },
  {
   "cell_type": "code",
   "execution_count": 2,
   "metadata": {},
   "outputs": [],
   "source": [
    "import csv\n",
    "\n",
    "%precision 3\n",
    "\n",
    "with open(r'cars_mpg.csv') as f:\n",
    "    mpg = list(csv.DictReader(f))"
   ]
  },
  {
   "cell_type": "code",
   "execution_count": 3,
   "metadata": {},
   "outputs": [],
   "source": [
    "# Task 1 – Worksheet 1\n",
    "\n",
    "# Purpose: Write the code that calculates the average miles per gallon (mpg) for\n",
    "# city driving and the average mpg for highway driving.\n",
    "\n",
    "# Output: A list with two floats will be created. The first float will be the average mpg for\n",
    "# city driving and the second the average mpg for highway driving. Your list must be the final thing displayed."
   ]
  },
  {
   "cell_type": "code",
   "execution_count": 4,
   "metadata": {},
   "outputs": [
    {
     "data": {
      "text/plain": [
       "[16.859, 23.440]"
      ]
     },
     "execution_count": 4,
     "metadata": {},
     "output_type": "execute_result"
    }
   ],
   "source": [
    "sum_city = 0\n",
    "sum_highway = 0\n",
    "avg_mpg = []\n",
    "\n",
    "for i in range(len(mpg)):\n",
    "    sum_city += int(mpg[i]['cty'])\n",
    "    sum_highway += int(mpg[i]['hwy'])\n",
    "    \n",
    "avg_mpg.append(sum_city/(len(mpg)))\n",
    "avg_mpg.append(sum_highway/(len(mpg)))\n",
    "\n",
    "avg_mpg"
   ]
  },
  {
   "cell_type": "code",
   "execution_count": 5,
   "metadata": {},
   "outputs": [],
   "source": [
    "# Task 2 - Worksheet 1\n",
    "\n",
    "# Purpose: Write the code that shows the different types of manufacturers.\n",
    "\n",
    "# Output: A set containing each of the manufacturers."
   ]
  },
  {
   "cell_type": "code",
   "execution_count": 6,
   "metadata": {},
   "outputs": [
    {
     "data": {
      "text/plain": [
       "{'allude',\n",
       " 'chevron',\n",
       " 'doggie',\n",
       " 'freeway',\n",
       " 'honda',\n",
       " 'hyundai',\n",
       " 'jeep',\n",
       " 'land rover',\n",
       " 'lincoln',\n",
       " 'mercury',\n",
       " 'nissan',\n",
       " 'silver',\n",
       " 'subbie',\n",
       " 'tinker',\n",
       " 'volks'}"
      ]
     },
     "execution_count": 6,
     "metadata": {},
     "output_type": "execute_result"
    }
   ],
   "source": [
    "manufacturers_set = set()\n",
    "\n",
    "for i in range(len(mpg)):\n",
    "    manufacturers_set.add(mpg[i]['manufacturer'])\n",
    "\n",
    "manufacturers_set"
   ]
  },
  {
   "cell_type": "code",
   "execution_count": 7,
   "metadata": {},
   "outputs": [],
   "source": [
    "# Task 3 - Worksheet 1\n",
    "\n",
    "# Purpose: Write the code that calculates the average mpg city driving and the average mpg \n",
    "# for highway driving for each manufacturer.\n",
    "\n",
    "# Output: A list containing, two lists, the first contains the average city driving mpg for\n",
    "# each company, and the second contains the average highway driving mpg for each company."
   ]
  },
  {
   "cell_type": "code",
   "execution_count": 8,
   "metadata": {},
   "outputs": [
    {
     "data": {
      "text/plain": [
       "[[17.250,\n",
       "  17.857,\n",
       "  21.368,\n",
       "  25.421,\n",
       "  20.049,\n",
       "  18.885,\n",
       "  13.814,\n",
       "  11.111,\n",
       "  14.909,\n",
       "  18.576,\n",
       "  13.521,\n",
       "  14.890,\n",
       "  18.906,\n",
       "  11.417,\n",
       "  12.981],\n",
       " [26.297,\n",
       "  23.892,\n",
       "  29.299,\n",
       "  32.340,\n",
       "  27.635,\n",
       "  27.416,\n",
       "  20.048,\n",
       "  16.833,\n",
       "  19.283,\n",
       "  27.928,\n",
       "  17.833,\n",
       "  20.535,\n",
       "  25.250,\n",
       "  16.250,\n",
       "  17.921]]"
      ]
     },
     "execution_count": 8,
     "metadata": {},
     "output_type": "execute_result"
    }
   ],
   "source": [
    "manufacturers = list(manufacturers_set)\n",
    "manufacturers_avg = [[],[]]\n",
    "\n",
    "for i in manufacturers:\n",
    "    sum_cty = 0\n",
    "    n_cty = 0\n",
    "    sum_hwy = 0\n",
    "    n_hwy = 0\n",
    "    man_cty_sum = 0\n",
    "    man_hwy_sum = 0\n",
    "    average_cty = []\n",
    "    average_hwy = []\n",
    "    \n",
    "    for j in range(len(mpg)):\n",
    "    \n",
    "        if mpg[j]['manufacturer'] == i:\n",
    "            for k in range(len(mpg)):\n",
    "                sum_cty += int(mpg[j]['cty'])\n",
    "                n_cty += 1\n",
    "    \n",
    "            average_cty.append(sum_cty/n_cty)\n",
    "        \n",
    "    \n",
    "        if mpg[j]['manufacturer'] == i:\n",
    "            for l in range(len(mpg)):\n",
    "                sum_hwy += int(mpg[j]['hwy'])\n",
    "                n_hwy += 1\n",
    "    \n",
    "            average_hwy.append(sum_hwy/n_hwy)\n",
    "    \n",
    "    for m in average_cty:\n",
    "        man_cty_sum += m\n",
    "    \n",
    "    for l in average_hwy:\n",
    "        man_hwy_sum += l\n",
    "    \n",
    "    manufacturers_avg[0].append(man_cty_sum/(len(average_cty)))\n",
    "    manufacturers_avg[1].append(man_hwy_sum/(len(average_hwy)))\n",
    "    \n",
    "manufacturers_avg"
   ]
  },
  {
   "cell_type": "code",
   "execution_count": 9,
   "metadata": {},
   "outputs": [],
   "source": [
    "# Task 4 - Worksheet 1\n",
    "\n",
    "# Purpose: Write the code that sorts these two lists by the mpg.\n",
    "\n",
    "# Output: A list containing, two lists, the first contains the average city driving mpg for\n",
    "# each company, and the second contains the average highway driving mpg for each company.\n",
    "# These lists are ordered by mpg."
   ]
  },
  {
   "cell_type": "code",
   "execution_count": 10,
   "metadata": {},
   "outputs": [
    {
     "data": {
      "text/plain": [
       "[[11.111,\n",
       "  11.417,\n",
       "  12.981,\n",
       "  13.521,\n",
       "  13.814,\n",
       "  14.890,\n",
       "  14.909,\n",
       "  17.250,\n",
       "  17.857,\n",
       "  18.576,\n",
       "  18.885,\n",
       "  18.906,\n",
       "  20.049,\n",
       "  21.368,\n",
       "  25.421],\n",
       " [16.250,\n",
       "  16.833,\n",
       "  17.833,\n",
       "  17.921,\n",
       "  19.283,\n",
       "  20.048,\n",
       "  20.535,\n",
       "  23.892,\n",
       "  25.250,\n",
       "  26.297,\n",
       "  27.416,\n",
       "  27.635,\n",
       "  27.928,\n",
       "  29.299,\n",
       "  32.340]]"
      ]
     },
     "execution_count": 10,
     "metadata": {},
     "output_type": "execute_result"
    }
   ],
   "source": [
    "manufacturers_avg[0].sort()\n",
    "manufacturers_avg[1].sort()\n",
    "\n",
    "manufacturers_avg"
   ]
  },
  {
   "cell_type": "code",
   "execution_count": 11,
   "metadata": {},
   "outputs": [],
   "source": [
    "# Task 5 - Worksheet 1\n",
    "\n",
    "# Purpose: Import the cars_mpg.csv file into a pandas dataframe.\n",
    "\n",
    "# Output: The head of the dataframe."
   ]
  },
  {
   "cell_type": "code",
   "execution_count": 12,
   "metadata": {},
   "outputs": [
    {
     "data": {
      "text/html": [
       "<div>\n",
       "<style scoped>\n",
       "    .dataframe tbody tr th:only-of-type {\n",
       "        vertical-align: middle;\n",
       "    }\n",
       "\n",
       "    .dataframe tbody tr th {\n",
       "        vertical-align: top;\n",
       "    }\n",
       "\n",
       "    .dataframe thead th {\n",
       "        text-align: right;\n",
       "    }\n",
       "</style>\n",
       "<table border=\"1\" class=\"dataframe\">\n",
       "  <thead>\n",
       "    <tr style=\"text-align: right;\">\n",
       "      <th></th>\n",
       "      <th>Unnamed: 0</th>\n",
       "      <th>manufacturer</th>\n",
       "      <th>model</th>\n",
       "      <th>displ</th>\n",
       "      <th>year</th>\n",
       "      <th>cyl</th>\n",
       "      <th>trans</th>\n",
       "      <th>drv</th>\n",
       "      <th>cty</th>\n",
       "      <th>hwy</th>\n",
       "      <th>fl</th>\n",
       "      <th>class</th>\n",
       "    </tr>\n",
       "  </thead>\n",
       "  <tbody>\n",
       "    <tr>\n",
       "      <th>0</th>\n",
       "      <td>1</td>\n",
       "      <td>allude</td>\n",
       "      <td>excel</td>\n",
       "      <td>1.8</td>\n",
       "      <td>1999</td>\n",
       "      <td>4</td>\n",
       "      <td>auto(l5)</td>\n",
       "      <td>f</td>\n",
       "      <td>18</td>\n",
       "      <td>29</td>\n",
       "      <td>p</td>\n",
       "      <td>compact</td>\n",
       "    </tr>\n",
       "    <tr>\n",
       "      <th>1</th>\n",
       "      <td>2</td>\n",
       "      <td>allude</td>\n",
       "      <td>excel</td>\n",
       "      <td>1.8</td>\n",
       "      <td>1999</td>\n",
       "      <td>4</td>\n",
       "      <td>manual(m5)</td>\n",
       "      <td>f</td>\n",
       "      <td>21</td>\n",
       "      <td>29</td>\n",
       "      <td>p</td>\n",
       "      <td>compact</td>\n",
       "    </tr>\n",
       "    <tr>\n",
       "      <th>2</th>\n",
       "      <td>3</td>\n",
       "      <td>allude</td>\n",
       "      <td>excel</td>\n",
       "      <td>2.0</td>\n",
       "      <td>2008</td>\n",
       "      <td>4</td>\n",
       "      <td>manual(m6)</td>\n",
       "      <td>f</td>\n",
       "      <td>20</td>\n",
       "      <td>31</td>\n",
       "      <td>p</td>\n",
       "      <td>compact</td>\n",
       "    </tr>\n",
       "    <tr>\n",
       "      <th>3</th>\n",
       "      <td>4</td>\n",
       "      <td>allude</td>\n",
       "      <td>excel</td>\n",
       "      <td>2.0</td>\n",
       "      <td>2008</td>\n",
       "      <td>4</td>\n",
       "      <td>auto(av)</td>\n",
       "      <td>f</td>\n",
       "      <td>21</td>\n",
       "      <td>30</td>\n",
       "      <td>p</td>\n",
       "      <td>compact</td>\n",
       "    </tr>\n",
       "    <tr>\n",
       "      <th>4</th>\n",
       "      <td>5</td>\n",
       "      <td>allude</td>\n",
       "      <td>excel</td>\n",
       "      <td>2.8</td>\n",
       "      <td>1999</td>\n",
       "      <td>6</td>\n",
       "      <td>auto(l5)</td>\n",
       "      <td>f</td>\n",
       "      <td>16</td>\n",
       "      <td>26</td>\n",
       "      <td>p</td>\n",
       "      <td>compact</td>\n",
       "    </tr>\n",
       "  </tbody>\n",
       "</table>\n",
       "</div>"
      ],
      "text/plain": [
       "   Unnamed: 0 manufacturer  model  displ  year  cyl       trans drv  cty  hwy  \\\n",
       "0           1       allude  excel    1.8  1999    4    auto(l5)   f   18   29   \n",
       "1           2       allude  excel    1.8  1999    4  manual(m5)   f   21   29   \n",
       "2           3       allude  excel    2.0  2008    4  manual(m6)   f   20   31   \n",
       "3           4       allude  excel    2.0  2008    4    auto(av)   f   21   30   \n",
       "4           5       allude  excel    2.8  1999    6    auto(l5)   f   16   26   \n",
       "\n",
       "  fl    class  \n",
       "0  p  compact  \n",
       "1  p  compact  \n",
       "2  p  compact  \n",
       "3  p  compact  \n",
       "4  p  compact  "
      ]
     },
     "execution_count": 12,
     "metadata": {},
     "output_type": "execute_result"
    }
   ],
   "source": [
    "import numpy as np\n",
    "import pandas as pd\n",
    "\n",
    "df = pd.read_csv('cars_mpg.csv')\n",
    "\n",
    "df.head()"
   ]
  },
  {
   "cell_type": "code",
   "execution_count": 13,
   "metadata": {},
   "outputs": [],
   "source": [
    "# Task 6 - Worksheet 1\n",
    "\n",
    "# Purpose: Write the code that calculates the maximum mpg for both city and\n",
    "# highway driving using dataframes.\n",
    "\n",
    "# Output: Maximum mpg for highway and city driving (since it never explicitly\n",
    "# said how I'm supposed to return it, I'm just going to return 2 print statements)."
   ]
  },
  {
   "cell_type": "code",
   "execution_count": 14,
   "metadata": {},
   "outputs": [
    {
     "name": "stdout",
     "output_type": "stream",
     "text": [
      "max city: 35\n",
      "max highway: 44\n"
     ]
    }
   ],
   "source": [
    "max_cty = df['cty'].max()\n",
    "max_hwy = df['hwy'].max()\n",
    "\n",
    "print('max city:', max_cty)\n",
    "print('max highway:', max_hwy)"
   ]
  },
  {
   "cell_type": "code",
   "execution_count": 15,
   "metadata": {},
   "outputs": [],
   "source": [
    "# Task 7 - Worksheet 1\n",
    "\n",
    "# Purpose: Write the code that calculates the average mpg for city driving and the \n",
    "# average mpg for highway driving.\n",
    "\n",
    "# Output: A dataframe containing the average city mpg in it's respective column, as\n",
    "# well as the average highway mpg in it's respective column."
   ]
  },
  {
   "cell_type": "code",
   "execution_count": 16,
   "metadata": {},
   "outputs": [
    {
     "data": {
      "text/html": [
       "<div>\n",
       "<style scoped>\n",
       "    .dataframe tbody tr th:only-of-type {\n",
       "        vertical-align: middle;\n",
       "    }\n",
       "\n",
       "    .dataframe tbody tr th {\n",
       "        vertical-align: top;\n",
       "    }\n",
       "\n",
       "    .dataframe thead th {\n",
       "        text-align: right;\n",
       "    }\n",
       "</style>\n",
       "<table border=\"1\" class=\"dataframe\">\n",
       "  <thead>\n",
       "    <tr style=\"text-align: right;\">\n",
       "      <th></th>\n",
       "      <th>mpg_city</th>\n",
       "      <th>mpg_highway</th>\n",
       "    </tr>\n",
       "  </thead>\n",
       "  <tbody>\n",
       "    <tr>\n",
       "      <th>0</th>\n",
       "      <td>16.858974</td>\n",
       "      <td>23.440171</td>\n",
       "    </tr>\n",
       "  </tbody>\n",
       "</table>\n",
       "</div>"
      ],
      "text/plain": [
       "    mpg_city  mpg_highway\n",
       "0  16.858974    23.440171"
      ]
     },
     "execution_count": 16,
     "metadata": {},
     "output_type": "execute_result"
    }
   ],
   "source": [
    "df_avg_mpg = pd.DataFrame({'mpg_city': [df.mean()['cty']], 'mpg_highway': [df.mean()['hwy']]})\n",
    "\n",
    "df_avg_mpg"
   ]
  },
  {
   "cell_type": "code",
   "execution_count": 17,
   "metadata": {},
   "outputs": [],
   "source": [
    "# Task 8 - Worksheet 1\n",
    "\n",
    "# Purpose: Plot the mpg for highway driving.\n",
    "\n",
    "# Output: A graph containing two lines, mpg city and mpg highway. The y-axis is the\n",
    "# mpg, and the x-axis is the car number"
   ]
  },
  {
   "cell_type": "code",
   "execution_count": 18,
   "metadata": {},
   "outputs": [
    {
     "data": {
      "text/plain": [
       "<matplotlib.axes._subplots.AxesSubplot at 0x11a2cc110>"
      ]
     },
     "execution_count": 18,
     "metadata": {},
     "output_type": "execute_result"
    },
    {
     "data": {
      "image/png": "[encoded data removed]",
      "text/plain": [
       "<Figure size 432x288 with 1 Axes>"
      ]
     },
     "metadata": {
      "needs_background": "light"
     },
     "output_type": "display_data"
    }
   ],
   "source": [
    "df[['cty','hwy']].plot()"
   ]
  }
 ],
 "metadata": {
  "kernelspec": {
   "display_name": "Python 3",
   "language": "python",
   "name": "python3"
  },
  "language_info": {
   "codemirror_mode": {
    "name": "ipython",
    "version": 3
   },
   "file_extension": ".py",
   "mimetype": "text/x-python",
   "name": "python",
   "nbconvert_exporter": "python",
   "pygments_lexer": "ipython3",
   "version": "3.7.6"
  }
 },
 "nbformat": 4,
 "nbformat_minor": 4
}
